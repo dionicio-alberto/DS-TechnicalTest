{
 "cells": [
  {
   "cell_type": "code",
   "execution_count": 1,
   "metadata": {},
   "outputs": [],
   "source": [
    "%load_ext autoreload\n",
    "%autoreload 2"
   ]
  },
  {
   "cell_type": "code",
   "execution_count": 2,
   "metadata": {},
   "outputs": [],
   "source": [
    "import sys\n",
    "from pathlib import Path\n",
    "\n",
    "sys.path.append((Path(\".\").resolve().parent.joinpath(\"src\").as_posix()))"
   ]
  },
  {
   "cell_type": "code",
   "execution_count": 3,
   "metadata": {},
   "outputs": [],
   "source": [
    "import StringToDates"
   ]
  },
  {
   "cell_type": "markdown",
   "metadata": {},
   "source": [
    "-----------------------------\n",
    "# Funcion para Parsear Fechas"
   ]
  },
  {
   "cell_type": "markdown",
   "metadata": {},
   "source": [
    "Haz una función para parsear una fecha de un String a un datetime.\n",
    "\n",
    "Ejemplos\n",
    "\n",
    "    1. Input: “foo document 23rd August 2017”\n",
    "        Output: datetime(object)\n",
    "    2. Input:“texto texto 12/09/2014”\n",
    "        Output: datetime(object)\n",
    "    3. Input: “Bla 29 de septiembre de 2014 bla bla”\n",
    "        Output: datetime(object)"
   ]
  },
  {
   "cell_type": "markdown",
   "metadata": {},
   "source": [
    "-----------\n",
    "\n",
    "## Importamos la libreria\n",
    "\n",
    "Todas las funciones estan dentro de la clase ´StringToDates´"
   ]
  },
  {
   "cell_type": "code",
   "execution_count": 9,
   "metadata": {},
   "outputs": [],
   "source": [
    "DataParser = StringToDates.DateParser()"
   ]
  },
  {
   "cell_type": "markdown",
   "metadata": {},
   "source": [
    "## Ingresamos la fecha"
   ]
  },
  {
   "cell_type": "code",
   "execution_count": 10,
   "metadata": {},
   "outputs": [],
   "source": [
    "input_date = input(\"Por favor, ingresa un texto que contenga una fecha: \")"
   ]
  },
  {
   "cell_type": "code",
   "execution_count": 21,
   "metadata": {},
   "outputs": [],
   "source": [
    "examples = [\"foo document 23rd August 2017\", \"texto texto 12/09/2014\", \"Bla 29 de septiembre de 2014 bla bla\"]"
   ]
  },
  {
   "cell_type": "markdown",
   "metadata": {},
   "source": [
    "## Resultado Final"
   ]
  },
  {
   "cell_type": "code",
   "execution_count": 28,
   "metadata": {},
   "outputs": [
    {
     "data": {
      "text/plain": [
       "[datetime.datetime(2017, 8, 23, 0, 0),\n",
       " datetime.datetime(2014, 9, 12, 0, 0),\n",
       " datetime.datetime(2014, 9, 29, 0, 0)]"
      ]
     },
     "execution_count": 28,
     "metadata": {},
     "output_type": "execute_result"
    }
   ],
   "source": [
    "result = [DataParser.parse(x) for x in examples]\n",
    "result"
   ]
  },
  {
   "cell_type": "code",
   "execution_count": null,
   "metadata": {},
   "outputs": [
    {
     "data": {
      "text/plain": [
       "[datetime.datetime(2017, 8, 23, 0, 0),\n",
       " datetime.datetime(2014, 9, 12, 0, 0),\n",
       " datetime.datetime(2014, 9, 29, 0, 0)]"
      ]
     },
     "execution_count": 24,
     "metadata": {},
     "output_type": "execute_result"
    }
   ],
   "source": [
    "DataParser.parse()"
   ]
  }
 ],
 "metadata": {
  "kernelspec": {
   "display_name": "datascience_technical_test",
   "language": "python",
   "name": "python3"
  },
  "language_info": {
   "codemirror_mode": {
    "name": "ipython",
    "version": 3
   },
   "file_extension": ".py",
   "mimetype": "text/x-python",
   "name": "python",
   "nbconvert_exporter": "python",
   "pygments_lexer": "ipython3",
   "version": "3.9.0"
  }
 },
 "nbformat": 4,
 "nbformat_minor": 2
}
