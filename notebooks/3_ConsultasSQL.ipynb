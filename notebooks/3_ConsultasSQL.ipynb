{
 "cells": [
  {
   "cell_type": "markdown",
   "metadata": {},
   "source": [
    "# Herramientas SQL\n",
    "\n",
    "Se tiene el siguiente diagrama Entidad Relacion\n",
    "\n",
    "![imagen](img/ER.png)"
   ]
  },
  {
   "cell_type": "markdown",
   "metadata": {},
   "source": [
    "Realizaremos las siguientes consultas SQL de acuerdo a lo anterior:\n",
    "\n",
    "1. Cuantas becas existen por sede\n",
    "2. Número de estudiantes existen por módulo, filtrando los que tengan más de 10 estudiantes\n",
    "3. Conteo de número de correos distintos"
   ]
  },
  {
   "cell_type": "markdown",
   "metadata": {},
   "source": [
    "## 1 Cuantas becas existen por sede"
   ]
  },
  {
   "cell_type": "markdown",
   "metadata": {},
   "source": [
    "```\n",
    "SELECT \n",
    "    S.IDSEDE, \n",
    "    S.NOMBRE AS SEDE, \n",
    "    COUNT(B.IDBECAS) AS TOTAL_BECAS\n",
    "FROM \n",
    "    Becas B\n",
    "JOIN \n",
    "    CARRERAS C ON B.CARRERAS_IDCARRERA = C.IDCARRERA\n",
    "JOIN \n",
    "    SEDE S ON C.SEDE_IDSEDE = S.IDSEDE\n",
    "GROUP BY \n",
    "    S.IDSEDE, S.NOMBRE\n",
    "ORDER BY \n",
    "    TOTAL_BECAS DESC;\n",
    "```"
   ]
  },
  {
   "cell_type": "markdown",
   "metadata": {},
   "source": [
    "## 2 Numero de estudiantes por modulo"
   ]
  },
  {
   "cell_type": "markdown",
   "metadata": {},
   "source": [
    "```\n",
    "SELECT \n",
    "    M.IDMODULO,\n",
    "    M.DESCRIPCION AS MODULO,\n",
    "    COUNT(DISTINCT MA.ESTUDIANTES_IDESTUDIANTE) AS TOTAL_ESTUDIANTES\n",
    "FROM \n",
    "    MATRICULA MA\n",
    "JOIN \n",
    "    CARRERAS C ON MA.CARRERAS_IDCARRERA = C.IDCARRERA\n",
    "JOIN \n",
    "    MODULOS M ON C.IDCARRERA = M.IDMODULO\n",
    "GROUP BY \n",
    "    M.IDMODULO, M.DESCRIPCION\n",
    "HAVING \n",
    "    COUNT(DISTINCT MA.ESTUDIANTES_IDESTUDIANTE) > 10\n",
    "ORDER BY \n",
    "    TOTAL_ESTUDIANTES DESC;\n",
    "```"
   ]
  },
  {
   "cell_type": "markdown",
   "metadata": {},
   "source": [
    "## 3. Numero de correos distintos"
   ]
  },
  {
   "cell_type": "markdown",
   "metadata": {},
   "source": [
    "```\n",
    "SELECT \n",
    "    COUNT(DISTINCT EMAIL) AS TOTAL_CORREOS_UNICOS\n",
    "FROM (\n",
    "    SELECT EMAIL FROM ESTUDIANTES\n",
    "    UNION\n",
    "    SELECT EMAIL FROM PROFESORES\n",
    "    UNION\n",
    "    SELECT EMAIL FROM SEDE\n",
    ") AS Correos;\n",
    "```"
   ]
  }
 ],
 "metadata": {
  "kernelspec": {
   "display_name": "datascience_technical_test",
   "language": "python",
   "name": "python3"
  },
  "language_info": {
   "codemirror_mode": {
    "name": "ipython",
    "version": 3
   },
   "file_extension": ".py",
   "mimetype": "text/x-python",
   "name": "python",
   "nbconvert_exporter": "python",
   "pygments_lexer": "ipython3",
   "version": "3.9.0"
  }
 },
 "nbformat": 4,
 "nbformat_minor": 2
}
