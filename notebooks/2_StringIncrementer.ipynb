{
 "cells": [
  {
   "cell_type": "code",
   "execution_count": 1,
   "metadata": {},
   "outputs": [],
   "source": [
    "%load_ext autoreload\n",
    "%autoreload 2"
   ]
  },
  {
   "cell_type": "code",
   "execution_count": 2,
   "metadata": {},
   "outputs": [],
   "source": [
    "import sys\n",
    "from pathlib import Path\n",
    "\n",
    "sys.path.append((Path(\".\").resolve().parent.joinpath(\"src\").as_posix()))"
   ]
  },
  {
   "cell_type": "code",
   "execution_count": 3,
   "metadata": {},
   "outputs": [],
   "source": [
    "from StringIncrementer import incrementar_cadena"
   ]
  },
  {
   "cell_type": "markdown",
   "metadata": {},
   "source": [
    "-------------------------------\n",
    "\n",
    "# Funcion para manejo de String\n",
    "\n",
    "Tu trabajo es crear una función que incremente una cadena para crear una nueva cadena (string)\n",
    "\n",
    "Si la cadena ya termina en un número, el numero debe de incrementarse en 1\n",
    "\n",
    "Si la cadena no termina en número, el numero 1 debe de agregarse al final en la nueva cadena\n",
    "\n",
    "Ejemplos:\n",
    "\n",
    "- foo -> foo1\n",
    "- foobar23 -> foobar24\n",
    "- foo0042 -> foo0043\n",
    "- foo9 -> foo10\n",
    "- foo099 -> foo100\n",
    "\n",
    "#### Atención:\n",
    "Si el número en la cadena tiene ceros al inicio del patrón de número, estos deben de considerarse.\n",
    "\n",
    "## Ejemplo de uso"
   ]
  },
  {
   "cell_type": "code",
   "execution_count": 4,
   "metadata": {},
   "outputs": [
    {
     "name": "stdout",
     "output_type": "stream",
     "text": [
      "foo1\n",
      "foobar24\n",
      "foo0043\n",
      "foo10\n",
      "foo100\n"
     ]
    }
   ],
   "source": [
    "print(incrementar_cadena(\"foo\"))\n",
    "print(incrementar_cadena(\"foobar23\"))\n",
    "print(incrementar_cadena(\"foo0042\"))\n",
    "print(incrementar_cadena(\"foo9\"))\n",
    "print(incrementar_cadena(\"foo099\"))"
   ]
  },
  {
   "cell_type": "markdown",
   "metadata": {},
   "source": [
    "-----------------------------\n",
    "\n",
    "# Explicación de la función\n",
    "\n",
    "## Importamos librerias"
   ]
  },
  {
   "cell_type": "code",
   "execution_count": 5,
   "metadata": {},
   "outputs": [],
   "source": [
    "import re"
   ]
  },
  {
   "cell_type": "markdown",
   "metadata": {},
   "source": [
    "A continuación, vamos a crear la cadena en la cual buscaremos el patron"
   ]
  },
  {
   "cell_type": "code",
   "execution_count": 6,
   "metadata": {},
   "outputs": [],
   "source": [
    "cadena = \"arribaLasChivas00099\""
   ]
  },
  {
   "cell_type": "markdown",
   "metadata": {},
   "source": [
    "Con una funcion de la libria `re` vamos a buscar si en la cadena se encuentra el patron que estamos buscado, en esta ocasion la expresion regular es la siguiente:\n",
    "\n",
    "```r\"(\\d+)$```\n",
    "\n",
    "La cual significa que se estan buscando uno o mas digitos y debe estar al final del string que con el que se compara"
   ]
  },
  {
   "cell_type": "code",
   "execution_count": 7,
   "metadata": {},
   "outputs": [
    {
     "data": {
      "text/plain": [
       "'00099'"
      ]
     },
     "execution_count": 7,
     "metadata": {},
     "output_type": "execute_result"
    }
   ],
   "source": [
    "match = re.search(r\"(\\d+)$\", cadena)\n",
    "match.group(1)"
   ]
  },
  {
   "cell_type": "markdown",
   "metadata": {},
   "source": [
    "Hacemos uso de `group(1)` para acceder directamente al grupo que hemos encontrado, a continuación haremos uso de una funcion condicional, la cual en caso de haber encontrado un numero, ahora va a generar la suma"
   ]
  },
  {
   "cell_type": "markdown",
   "metadata": {},
   "source": [
    "```\n",
    "if match:\n",
    "    numero_original = match.group(1)\n",
    "    numero_incrementado = str(int(numero_original) + 1)\n",
    "    numero_incrementado = numero_original[:-len(numero_incrementado)] + numero_incrementado \\\n",
    "        if len(numero_original) > len(numero_incrementado) else numero_incrementado\n",
    "    return cadena[:match.start()] + numero_incrementado\n",
    "else:\n",
    "    return cadena + \"1\"\n",
    "```\n",
    "\n",
    "A continuación lo vemos más detalladamente"
   ]
  },
  {
   "cell_type": "code",
   "execution_count": 8,
   "metadata": {},
   "outputs": [
    {
     "data": {
      "text/plain": [
       "'00099'"
      ]
     },
     "execution_count": 8,
     "metadata": {},
     "output_type": "execute_result"
    }
   ],
   "source": [
    "numero_orignal = match.group(1)\n",
    "numero_orignal"
   ]
  },
  {
   "cell_type": "markdown",
   "metadata": {},
   "source": [
    "Ahora sumamos un numero al numero original y posteriormente hacemos un paso más para asegurarnos que estamos manteniendo todos los ceros "
   ]
  },
  {
   "cell_type": "code",
   "execution_count": 9,
   "metadata": {},
   "outputs": [],
   "source": [
    "numero_incrementado = str(int(numero_orignal)+1)\n",
    "numero_incrementado_string = numero_orignal[:-len(numero_incrementado)]+ numero_incrementado if len(numero_incrementado)<len(numero_orignal) \\\n",
    "    else numero_incrementado"
   ]
  },
  {
   "cell_type": "code",
   "execution_count": 10,
   "metadata": {},
   "outputs": [
    {
     "data": {
      "text/plain": [
       "'00100'"
      ]
     },
     "execution_count": 10,
     "metadata": {},
     "output_type": "execute_result"
    }
   ],
   "source": [
    "numero_incrementado_string"
   ]
  },
  {
   "cell_type": "markdown",
   "metadata": {},
   "source": [
    "Finalmente tomamos la cadena inicial para actualizarla con un digito aumentado"
   ]
  },
  {
   "cell_type": "code",
   "execution_count": 11,
   "metadata": {},
   "outputs": [
    {
     "name": "stdout",
     "output_type": "stream",
     "text": [
      "arribaLasChivas00100\n"
     ]
    }
   ],
   "source": [
    "cadena = cadena[:match.start()] + numero_incrementado_string\n",
    "print(cadena)"
   ]
  }
 ],
 "metadata": {
  "kernelspec": {
   "display_name": "datascience_technical_test",
   "language": "python",
   "name": "python3"
  },
  "language_info": {
   "codemirror_mode": {
    "name": "ipython",
    "version": 3
   },
   "file_extension": ".py",
   "mimetype": "text/x-python",
   "name": "python",
   "nbconvert_exporter": "python",
   "pygments_lexer": "ipython3",
   "version": "3.13.1"
  }
 },
 "nbformat": 4,
 "nbformat_minor": 2
}
