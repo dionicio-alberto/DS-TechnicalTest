{
 "cells": [
  {
   "cell_type": "code",
   "execution_count": 3,
   "metadata": {},
   "outputs": [
    {
     "name": "stdout",
     "output_type": "stream",
     "text": [
      "The autoreload extension is already loaded. To reload it, use:\n",
      "  %reload_ext autoreload\n"
     ]
    }
   ],
   "source": [
    "%load_ext autoreload\n",
    "%autoreload 2\n",
    "\n",
    "import sys\n",
    "from pathlib import Path\n",
    "\n",
    "sys.path.append((Path(\".\").resolve().parent.joinpath(\"src\").as_posix()))\n",
    "\n",
    "from ValidateIP import *"
   ]
  },
  {
   "cell_type": "markdown",
   "metadata": {},
   "source": [
    "-------------------------\n",
    "\n",
    "\n",
    "# 📌 Validación de Direcciones IP en Python\n",
    "\n",
    "Este proyecto permite validar direcciones IP para determinar si son **IPv4, IPv6 o inválidas**.\n",
    "\n",
    "## 📌 Lógica del Código\n",
    "\n",
    "### 1️⃣ **Expresión Regular para IPv4**\n",
    "- Una dirección **IPv4** consiste en **4 números** entre `0` y `255`, separados por puntos (`.`).\n",
    "- La expresión regular utilizada es:\n",
    "\n",
    "  ```^(25[0-5]|2[0-4][0-9]|1?[0-9][0-9]?)\\.(25[0-5]|2[0-4][0-9]|1?[0-9][0-9]?)\\.(25[0-5]|2[0-4][0-9]|1?[0-9][0-9]?)\\.(25[0-5]|2[0-4][0-9]|1?[0-9][0-9]?)$```\n",
    "\n",
    "Donde\n",
    "\n",
    "- `25[0-5]` → Coincide con 250-255.\n",
    "- `2[0-4][0-9]` → Coincide con 200-249.\n",
    "- `1?[0-9][0-9]?` → Coincide con 0-199 e indica el final del grupo."
   ]
  },
  {
   "cell_type": "markdown",
   "metadata": {},
   "source": [
    "### 2️⃣ **Expresión Regular para IPv6**\n",
    "\n",
    "- Una dirección IPv6 consta de 8 grupos de 4 caracteres hexadecimales (0-9 y a-f).\n",
    "- La expresión regular utilizada es:\n",
    "\n",
    "```^([0-9a-fA-F]{1,4}:){7}[0-9a-fA-F]{1,4}$```\n",
    "\n",
    "Donde \n",
    "\n",
    "- `[0-9a-fA-F]{1,4}` → Coincide con grupos de 1 a 4 caracteres hexadecimales.\n",
    "- `:` → Debe haber 7 separadores :\n",
    "\n",
    "Este enfoque modular permite reutilizar la validación de IPs en otros proyectos."
   ]
  },
  {
   "cell_type": "markdown",
   "metadata": {},
   "source": [
    "-----------\n",
    "\n",
    "## Ejemplo de Uso"
   ]
  },
  {
   "cell_type": "code",
   "execution_count": 10,
   "metadata": {},
   "outputs": [
    {
     "name": "stdout",
     "output_type": "stream",
     "text": [
      "172.16.254.1 -> IPV4\n",
      "2001:0db8:85a3:0:0:8A2E:0370:7334 -> IPV6\n",
      "256.256.256.256 -> Neither\n",
      "192.168.1.01 -> IPV4\n",
      "2001:db8::8a2e:370:7334 -> Neither\n"
     ]
    }
   ],
   "source": [
    "pruebas = [\n",
    "    \"172.16.254.1\",       \n",
    "    \"2001:0db8:85a3:0:0:8A2E:0370:7334\",\n",
    "    \"256.256.256.256\",  \n",
    "    \"192.168.1.01\",     \n",
    "    \"2001:db8::8a2e:370:7334\"  \n",
    "]\n",
    "\n",
    "for prueba in pruebas:\n",
    "    print(f\"{prueba} -> {validar_direccion_ip(prueba)}\")"
   ]
  }
 ],
 "metadata": {
  "kernelspec": {
   "display_name": "datascience_technical_test",
   "language": "python",
   "name": "python3"
  },
  "language_info": {
   "codemirror_mode": {
    "name": "ipython",
    "version": 3
   },
   "file_extension": ".py",
   "mimetype": "text/x-python",
   "name": "python",
   "nbconvert_exporter": "python",
   "pygments_lexer": "ipython3",
   "version": "3.9.0"
  }
 },
 "nbformat": 4,
 "nbformat_minor": 2
}
