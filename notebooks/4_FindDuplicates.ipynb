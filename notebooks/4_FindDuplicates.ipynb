{
 "cells": [
  {
   "cell_type": "code",
   "execution_count": 7,
   "metadata": {},
   "outputs": [
    {
     "name": "stdout",
     "output_type": "stream",
     "text": [
      "The autoreload extension is already loaded. To reload it, use:\n",
      "  %reload_ext autoreload\n"
     ]
    }
   ],
   "source": [
    "%load_ext autoreload\n",
    "%autoreload 2\n",
    "\n",
    "import sys\n",
    "from pathlib import Path\n",
    "\n",
    "sys.path.append((Path(\".\").resolve().parent.joinpath(\"src\").as_posix()))\n",
    "\n",
    "from DuplicatesNumbers import *"
   ]
  },
  {
   "cell_type": "markdown",
   "metadata": {},
   "source": [
    "------------------\n",
    "\n",
    "# 🕹️ Función para encontrar duplicados:\n",
    "\n",
    "Tenemos 4 métodos a través de los cuales podemos encontrar si en una lista existen duplicados. A continuacion se muestra una tabla que compara cada uno de ellos"
   ]
  },
  {
   "cell_type": "markdown",
   "metadata": {},
   "source": [
    "| Método                        | Tiempo      | Espacio   | Explicación                                      |\n",
    "|--------------------------------|------------|----------|--------------------------------------------------|\n",
    "| **Set (`O(N)`)**               | Rápido     | Alto (`O(N)`) | Usa un `set` para encontrar duplicados.         |\n",
    "| **Modificación con negativos (`O(N)`)** | Rápido     | Bajo (`O(1)`) | Modifica la lista original con marcas negativas. |\n",
    "| **Ordenando (`O(N log N)`)**   | Lento      | Bajo (`O(1)`) | Ordena la lista y busca valores repetidos.      |\n",
    "| **Floyd (`O(N)`)**             | Rápido     | Bajo (`O(1)`) | Usa detección de ciclos.                        |\n"
   ]
  },
  {
   "cell_type": "code",
   "execution_count": 8,
   "metadata": {},
   "outputs": [],
   "source": [
    "   # Crear lista aleatoria con N+1 elementos (garantizado que hay duplicados)\n",
    "N = 10000\n",
    "lista_prueba = list(range(1, N)) + [random.randint(1, N//2)]\n",
    "random.shuffle(lista_prueba)"
   ]
  },
  {
   "cell_type": "code",
   "execution_count": 9,
   "metadata": {},
   "outputs": [
    {
     "name": "stdout",
     "output_type": "stream",
     "text": [
      "Set:\n",
      "  → Duplicado encontrado: 3767\n",
      "  → Tiempo de ejecución: 0.002980 segundos\n",
      "  → Memoria usada: 718.38 KB\n",
      "--------------------------------------------------\n",
      "Rango (Negativos):\n",
      "  → Duplicado encontrado: 3767\n",
      "  → Tiempo de ejecución: 0.046707 segundos\n",
      "  → Memoria usada: 371.80 KB\n",
      "--------------------------------------------------\n",
      "Ordenando:\n",
      "  → Duplicado encontrado: 3767\n",
      "  → Tiempo de ejecución: 0.007882 segundos\n",
      "  → Memoria usada: 117.16 KB\n",
      "--------------------------------------------------\n",
      "Floyd:\n",
      "  → Duplicado encontrado: 3767\n",
      "  → Tiempo de ejecución: 0.000841 segundos\n",
      "  → Memoria usada: 78.12 KB\n",
      "--------------------------------------------------\n"
     ]
    }
   ],
   "source": [
    "comparacion(lista_prueba)"
   ]
  },
  {
   "cell_type": "markdown",
   "metadata": {},
   "source": [
    "Es importante mencionar la sigueinte limitación que se tiene para el metodo `Rangos` y `Floyd`\n",
    "\n",
    "> ✔ Limitación: Solo funciona si los números están dentro del rango [1, N-1], sin valores fuera de este rango.\n",
    "\n",
    "A continuación, una explicación detallada de cada uno de los métodos aqui presentados"
   ]
  },
  {
   "cell_type": "markdown",
   "metadata": {},
   "source": [
    "-------------------\n",
    "## 🔍 Método 1: Usando un `set` para detectar duplicados\n",
    "\n",
    "Este método utiliza un **conjunto (`set`)** para almacenar los valores únicos.\n",
    "Si un número ya está en el conjunto, entonces es el duplicado.\n",
    "\n",
    "### **⏳ Complejidad**\n",
    "- **Tiempo:**  $O(N)$ , ya que recorremos la lista una sola vez.\n",
    "- **Espacio:** $ O(N)$, porque almacenamos hasta $ N $ valores en el `set`.\n",
    "\n",
    "### **📝 Algoritmo**\n",
    "1. Recorrer la lista número por número.\n",
    "2. Si el número ya está en el `set`, retornarlo.\n",
    "3. Si no, agregarlo al `set`."
   ]
  },
  {
   "cell_type": "markdown",
   "metadata": {},
   "source": [
    "--------------------------\n",
    "\n",
    "## 🔍 Método 2: Modificando la lista con marcas negativas\n",
    "\n",
    "En este método, tomamos cada número como índice y **negamos** el valor en esa posición.\n",
    "Si encontramos un índice ya negativo, significa que hemos visto ese número antes.\n",
    "\n",
    "### **⏳ Complejidad**\n",
    "- **Tiempo:** $O(N)$ porque recorremos la lista una sola vez.\n",
    "- **Espacio:**$O(1)$, ya que no usamos estructuras adicionales.\n",
    "\n",
    "### **📝 Algoritmo**\n",
    "1. Para cada número $x$ en la lista:\n",
    "    - Convertir $x$ a índice: $ abs (x) - 1$\n",
    "    - Si el valor en ese índice es negativo, $x$ es el duplicado.\n",
    "    - Si no, marcarlo como negativo."
   ]
  },
  {
   "cell_type": "markdown",
   "metadata": {},
   "source": [
    "------------------\n",
    "\n",
    "## 🔍 Método 3: Ordenando y buscando duplicados\n",
    "    \n",
    "Este método primero **ordena** la lista y luego busca valores consecutivos repetidos.\n",
    "\n",
    "### **⏳ Complejidad**\n",
    "- **Tiempo:** $ O(N \\log N) $ debido al ordenamiento.\n",
    "- **Espacio:** $ O(1) $ si el ordenamiento es en sitio.\n",
    "\n",
    "### **📝 Algoritmo**\n",
    "1. Ordenar la lista.\n",
    "2. Recorrer la lista y buscar dos valores consecutivos iguales."
   ]
  },
  {
   "cell_type": "markdown",
   "metadata": {},
   "source": [
    "---------------------\n",
    "\n",
    "## 🔍 Método 4: Algoritmo de Floyd (Tortuga y Liebre)\n",
    "\n",
    "Este método usa el **algoritmo del ciclo de Floyd**, basado en la detección de ciclos en listas.\n",
    "\n",
    "### **⏳ Complejidad**\n",
    "- **Tiempo:** $ O(N) $, porque encontramos el ciclo en dos pases.\n",
    "- **Espacio:** $ O(1) $, ya que no usamos estructuras adicionales.\n",
    "\n",
    "### **📝 Algoritmo**\n",
    "1. **Fase 1:** Usamos dos punteros (`tortuga` y `liebre`) para detectar un ciclo.\n",
    "2. **Fase 2:** Reiniciamos `tortuga` y avanzamos ambos punteros hasta encontrar el inicio del ciclo.\n",
    "\n",
    "### **📌 Ecuaciones**\n",
    "- Movimiento de la tortuga: $ T_{i+1} = lista[T_i] $\n",
    "- Movimiento de la liebre: $ L_{i+1} = lista[lista[L_i]] $\n",
    "- Encuentro en el ciclo: $ T_k = L_k $"
   ]
  }
 ],
 "metadata": {
  "kernelspec": {
   "display_name": "datascience_technical_test",
   "language": "python",
   "name": "python3"
  },
  "language_info": {
   "codemirror_mode": {
    "name": "ipython",
    "version": 3
   },
   "file_extension": ".py",
   "mimetype": "text/x-python",
   "name": "python",
   "nbconvert_exporter": "python",
   "pygments_lexer": "ipython3",
   "version": "3.13.1"
  }
 },
 "nbformat": 4,
 "nbformat_minor": 2
}
